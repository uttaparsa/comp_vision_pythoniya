{
 "cells": [
  {
   "cell_type": "code",
   "execution_count": 155,
   "metadata": {},
   "outputs": [],
   "source": [
    "import cv2\n",
    "import matplotlib.pyplot as plt\n",
    "import numpy as np\n",
    "import sys\n",
    "from sklearn import svm\n",
    "%matplotlib inline\n",
    "\n",
    "from IPython.display import display\n",
    "from PIL import Image\n",
    "import glob"
   ]
  },
  {
   "cell_type": "code",
   "execution_count": 156,
   "metadata": {},
   "outputs": [],
   "source": [
    "one = glob.glob(\"./HodaSmallSubset/train/1-*.png\")\n",
    "two = glob.glob(\"./HodaSmallSubset/train/2-*.png\")\n",
    "five = glob.glob(\"./HodaSmallSubset/train/5-*.png\")"
   ]
  },
  {
   "cell_type": "markdown",
   "metadata": {},
   "source": [
    "# Read data"
   ]
  },
  {
   "cell_type": "code",
   "execution_count": 157,
   "metadata": {},
   "outputs": [
    {
     "name": "stdout",
     "output_type": "stream",
     "text": [
      "TRAIN DATA COUNT : 150\n"
     ]
    }
   ],
   "source": [
    "print(\"TRAIN DATA COUNT : \"+str(len(glob.glob(\"./HodaSmallSubset/train/*.png\"))))\n",
    "\n",
    "one_img = []\n",
    "for i in range(len(one)):\n",
    "    one_img.append(np.array(Image.open(one[i])))\n",
    "    \n",
    "two_img = []\n",
    "for i in range(len(two)):\n",
    "    two_img.append(np.array(Image.open(two[i])))\n",
    "    \n",
    "five_img = []\n",
    "for i in range(len(five)):\n",
    "    five_img.append(np.array(Image.open(five[i])))"
   ]
  },
  {
   "cell_type": "code",
   "execution_count": 158,
   "metadata": {},
   "outputs": [],
   "source": [
    "# for i in range(len(one_img)):\n",
    "#     plt.imshow(one_img[i])\n",
    "#     plt.xticks([]),plt.yticks([])\n",
    "#     plt.show()"
   ]
  },
  {
   "cell_type": "code",
   "execution_count": 159,
   "metadata": {},
   "outputs": [],
   "source": [
    "# for i in range(len(two_img)):\n",
    "#     plt.imshow(two_img[i])\n",
    "#     plt.xticks([]),plt.yticks([])\n",
    "#     plt.show()"
   ]
  },
  {
   "cell_type": "code",
   "execution_count": 160,
   "metadata": {},
   "outputs": [],
   "source": [
    "# for i in range(len(five_img)):\n",
    "#     plt.imshow(five_img[i])\n",
    "#     plt.xticks([]),plt.yticks([])\n",
    "#     plt.show()"
   ]
  },
  {
   "cell_type": "code",
   "execution_count": 161,
   "metadata": {},
   "outputs": [],
   "source": [
    "def descriptor(img):\n",
    "    dim = (3, 3)\n",
    "    # resize image\n",
    "    resized = cv2.resize(img, dim, interpolation = cv2.INTER_AREA)\n",
    "    return resized.flatten()"
   ]
  },
  {
   "cell_type": "code",
   "execution_count": 162,
   "metadata": {},
   "outputs": [
    {
     "name": "stdout",
     "output_type": "stream",
     "text": [
      "9\n"
     ]
    }
   ],
   "source": [
    "a = descriptor(one_img[0])\n",
    "print(len(a))"
   ]
  },
  {
   "cell_type": "markdown",
   "metadata": {},
   "source": [
    "# Training"
   ]
  },
  {
   "cell_type": "code",
   "execution_count": 163,
   "metadata": {},
   "outputs": [],
   "source": [
    "X = []\n",
    "Y = []\n",
    "ONE = 0\n",
    "for i in one_img:\n",
    "    des = descriptor(i)\n",
    "    X.append(des)\n",
    "    Y.append(ONE)\n",
    "\n",
    "TWO = 1   \n",
    "for i in two_img:\n",
    "    des = descriptor(i)\n",
    "    X.append(des)\n",
    "    Y.append(TWO)\n",
    "    \n",
    "FIVE = 2  \n",
    "for i in five_img:\n",
    "    des = descriptor(i)\n",
    "    X.append(des)\n",
    "    Y.append(FIVE)"
   ]
  },
  {
   "cell_type": "code",
   "execution_count": 164,
   "metadata": {},
   "outputs": [
    {
     "data": {
      "text/plain": [
       "SVC()"
      ]
     },
     "execution_count": 164,
     "metadata": {},
     "output_type": "execute_result"
    }
   ],
   "source": [
    "clf = svm.SVC()\n",
    "clf.fit(X,Y)"
   ]
  },
  {
   "cell_type": "markdown",
   "metadata": {},
   "source": [
    "# Test"
   ]
  },
  {
   "cell_type": "code",
   "execution_count": 165,
   "metadata": {},
   "outputs": [
    {
     "name": "stdout",
     "output_type": "stream",
     "text": [
      "TEST DATA COUNT : 450\n"
     ]
    }
   ],
   "source": [
    "\n",
    "testAddr = glob.glob(\"./HodaSmallSubset/test/*.png\")\n",
    "print(\"TEST DATA COUNT : \"+str(len(testAddr)))\n",
    "\n",
    "test_img = []\n",
    "for i in range(len(testAddr)):\n",
    "    img = np.array(Image.open(testAddr[i]))\n",
    "    test_img.append(img)\n"
   ]
  },
  {
   "cell_type": "code",
   "execution_count": 166,
   "metadata": {},
   "outputs": [
    {
     "name": "stdout",
     "output_type": "stream",
     "text": [
      "ONE,TWO,FIVE : 150 , 150 , 150\n",
      "test results ONE,TWO,FIVE : 152 , 148 , 150\n"
     ]
    }
   ],
   "source": [
    "one_count = 0\n",
    "two_count = 0\n",
    "five_count = 0\n",
    "for addr in testAddr:\n",
    "    if \"1-\" in addr:\n",
    "        one_count += 1\n",
    "    if \"2-\" in addr:\n",
    "        two_count += 1\n",
    "    if \"5-\" in addr:\n",
    "        five_count += 1\n",
    "print(f\"ONE,TWO,FIVE : {one_count} , {two_count} , {five_count}\")\n",
    "\n",
    "test_one_count = 0\n",
    "test_two_count = 0\n",
    "test_five_count = 0\n",
    "for i in range(len(test_img)):\n",
    "    des = descriptor(test_img[i])\n",
    "    res = clf.predict([des])\n",
    "\n",
    "    if(res[0] == ONE):\n",
    "        test_one_count += 1\n",
    "    if(res[0] == TWO):\n",
    "        test_two_count += 1\n",
    "    if(res[0] == FIVE):\n",
    "        test_five_count += 1\n",
    "\n",
    "        \n",
    "print(f\"test results ONE,TWO,FIVE : {test_one_count} , {test_two_count} , {test_five_count}\")"
   ]
  },
  {
   "cell_type": "code",
   "execution_count": null,
   "metadata": {},
   "outputs": [],
   "source": []
  }
 ],
 "metadata": {
  "kernelspec": {
   "display_name": "Python 3",
   "language": "python",
   "name": "python3"
  },
  "language_info": {
   "codemirror_mode": {
    "name": "ipython",
    "version": 3
   },
   "file_extension": ".py",
   "mimetype": "text/x-python",
   "name": "python",
   "nbconvert_exporter": "python",
   "pygments_lexer": "ipython3",
   "version": "3.8.2"
  }
 },
 "nbformat": 4,
 "nbformat_minor": 4
}
